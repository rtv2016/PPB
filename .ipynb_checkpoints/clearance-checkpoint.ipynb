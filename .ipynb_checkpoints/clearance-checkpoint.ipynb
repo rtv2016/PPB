{
 "cells": [
  {
   "cell_type": "markdown",
   "metadata": {},
   "source": [
    "# Step 1\n",
    "## Import required packages\n",
    "* os: useful package for accessing directories and files\n",
    "* matplotlib.pyplot: basic python plotting package\n",
    "* chem: our QSAR regression package\n",
    "* pandas: data I/O \n",
    "* numpy: matrix operations\n",
    "* sklearn.metrics: machine learning metrics"
   ]
  },
  {
   "cell_type": "code",
   "execution_count": 12,
   "metadata": {
    "collapsed": false
   },
   "outputs": [],
   "source": [
    "%matplotlib inline\n",
    "import os\n",
    "import matplotlib.pyplot as plt\n",
    "import chem\n",
    "import pandas as pd\n",
    "import numpy as np\n",
    "from sklearn import metrics"
   ]
  },
  {
   "cell_type": "markdown",
   "metadata": {},
   "source": [
    "# Step 2\n",
    "## Data load, transformation and simple visualization\n",
    "Read the data from CSV into a Pandas DataFrame.\n",
    "Convert the clearance to log_cl\n",
    "Plot the histogram of log_cl"
   ]
  },
  {
   "cell_type": "code",
   "execution_count": 13,
   "metadata": {
    "collapsed": false
   },
   "outputs": [
    {
     "name": "stdout",
     "output_type": "stream",
     "text": [
      "Raw data size is 2176 rows x 206 columns\n"
     ]
    },
    {
     "data": {
      "image/png": "[encoded data removed]",
      "text/plain": [
       "<matplotlib.figure.Figure at 0x113ce4550>"
      ]
     },
     "metadata": {},
     "output_type": "display_data"
    }
   ],
   "source": [
    "data = pd.read_csv(os.path.join(os.getcwd(),'data','t0.5_washed_descriptors.csv'))\n",
    "print('Raw data size is %d rows x %d columns' % data.shape)\n",
    "# Perform log transformation of CL values to be used as label values in the model\n",
    "log_cl = pd.Series(np.log(data['CL (mL/min*kg)'].values),index=data['CMPD_CHEMBLID'])\n",
    "# Generate histogram\n",
    "h = plt.hist(log_cl,bins=50)\n",
    "# Make plot look nice\n",
    "plt.xlabel('log CLint')\n",
    "plt.ylabel('# Occurrences')\n",
    "plt.title('Histogram of log CLint')\n",
    "# Display plot\n",
    "plt.show()"
   ]
  },
  {
   "cell_type": "markdown",
   "metadata": {},
   "source": [
    "# Step 3\n",
    "## Split data into training and test set\n",
    "This split is performed by simply using the first 1500 chemicals as the training set and holding out the rest as a test set.  "
   ]
  },
  {
   "cell_type": "code",
   "execution_count": 14,
   "metadata": {
    "collapsed": false
   },
   "outputs": [],
   "source": [
    "# Initialize the column index of the first molecular descriptor in the DataFrame\n",
    "first_feature_index = 14\n",
    "# Extract molecular descriptors, leaving out the metadata for each chemical\n",
    "features = data[list(data.columns.values)[first_feature_index:]]\n",
    "# Simple split for training set by using first 1500 chemicals in the dataset\n",
    "train_index = 1500\n",
    "# Split the dataset into training and hold-out test sets\n",
    "train_features = features.iloc[:train_index]\n",
    "train_labels = log_cl.iloc[:train_index]\n",
    "test_features = features.iloc[train_index:]\n",
    "test_labels = log_cl.iloc[train_index:]\n"
   ]
  },
  {
   "cell_type": "markdown",
   "metadata": {},
   "source": [
    "# Step 4\n",
    "## Reduce feature set\n",
    "Reduce the feature set using RF feature importances and the AIC metric.  "
   ]
  },
  {
   "cell_type": "code",
   "execution_count": 16,
   "metadata": {
    "collapsed": false
   },
   "outputs": [
    {
     "name": "stdout",
     "output_type": "stream",
     "text": [
      "1  features being tested\n",
      "RandomForestRegressor(bootstrap=True, criterion='mse', max_depth=None,\n",
      "           max_features='auto', max_leaf_nodes=None, min_samples_leaf=1,\n",
      "           min_samples_split=2, min_weight_fraction_leaf=0.0,\n",
      "           n_estimators=250, n_jobs=-1, oob_score=False, random_state=None,\n",
      "           verbose=0, warm_start=False)\n",
      "AIC: 8021.55293507\n",
      "BIC:  8024.86615545\n",
      "RMSE:  1.44763697119 \n",
      "\n",
      "5  features being tested\n",
      "RandomForestRegressor(bootstrap=True, criterion='mse', max_depth=None,\n",
      "           max_features='auto', max_leaf_nodes=None, min_samples_leaf=1,\n",
      "           min_samples_split=2, min_weight_fraction_leaf=0.0,\n",
      "           n_estimators=250, n_jobs=-1, oob_score=False, random_state=None,\n",
      "           verbose=0, warm_start=False)\n",
      "AIC: 7579.25645856\n",
      "BIC:  7603.8225605\n",
      "RMSE:  1.2458695583 \n",
      "\n",
      "10  features being tested\n",
      "RandomForestRegressor(bootstrap=True, criterion='mse', max_depth=None,\n",
      "           max_features='auto', max_leaf_nodes=None, min_samples_leaf=1,\n",
      "           min_samples_split=2, min_weight_fraction_leaf=0.0,\n",
      "           n_estimators=250, n_jobs=-1, oob_score=False, random_state=None,\n",
      "           verbose=0, warm_start=False)\n",
      "AIC: 7387.60641258\n",
      "BIC:  7438.73861645\n",
      "RMSE:  1.16487879681 \n",
      "\n",
      "15  features being tested\n",
      "RandomForestRegressor(bootstrap=True, criterion='mse', max_depth=None,\n",
      "           max_features='auto', max_leaf_nodes=None, min_samples_leaf=1,\n",
      "           min_samples_split=2, min_weight_fraction_leaf=0.0,\n",
      "           n_estimators=250, n_jobs=-1, oob_score=False, random_state=None,\n",
      "           verbose=0, warm_start=False)\n",
      "AIC: 7398.86971415\n",
      "BIC:  7476.56801995\n",
      "RMSE:  1.16536943118 \n",
      "\n",
      "19  features being tested\n",
      "RandomForestRegressor(bootstrap=True, criterion='mse', max_depth=None,\n",
      "           max_features='auto', max_leaf_nodes=None, min_samples_leaf=1,\n",
      "           min_samples_split=2, min_weight_fraction_leaf=0.0,\n",
      "           n_estimators=250, n_jobs=-1, oob_score=False, random_state=None,\n",
      "           verbose=0, warm_start=False)\n",
      "AIC: 7394.34308432\n",
      "BIC:  7493.29427167\n",
      "RMSE:  1.16051352576 \n",
      "\n",
      "29  features being tested\n",
      "RandomForestRegressor(bootstrap=True, criterion='mse', max_depth=None,\n",
      "           max_features='auto', max_leaf_nodes=None, min_samples_leaf=1,\n",
      "           min_samples_split=2, min_weight_fraction_leaf=0.0,\n",
      "           n_estimators=250, n_jobs=-1, oob_score=False, random_state=None,\n",
      "           verbose=0, warm_start=False)\n",
      "AIC: 7465.24163919\n",
      "BIC:  7617.32503041\n",
      "RMSE:  1.18037098925 \n",
      "\n",
      "39  features being tested\n",
      "RandomForestRegressor(bootstrap=True, criterion='mse', max_depth=None,\n",
      "           max_features='auto', max_leaf_nodes=None, min_samples_leaf=1,\n",
      "           min_samples_split=2, min_weight_fraction_leaf=0.0,\n",
      "           n_estimators=250, n_jobs=-1, oob_score=False, random_state=None,\n",
      "           verbose=0, warm_start=False)\n",
      "AIC: 7512.79817144\n",
      "BIC:  7718.01376654\n",
      "RMSE:  1.19126324856 \n",
      "\n",
      "48  features being tested\n",
      "RandomForestRegressor(bootstrap=True, criterion='mse', max_depth=None,\n",
      "           max_features='auto', max_leaf_nodes=None, min_samples_leaf=1,\n",
      "           min_samples_split=2, min_weight_fraction_leaf=0.0,\n",
      "           n_estimators=250, n_jobs=-1, oob_score=False, random_state=None,\n",
      "           verbose=0, warm_start=False)\n",
      "AIC: 7504.12199851\n",
      "BIC:  7757.15657709\n",
      "RMSE:  1.18071742361 \n",
      "\n",
      "68  features being tested\n",
      "RandomForestRegressor(bootstrap=True, criterion='mse', max_depth=None,\n",
      "           max_features='auto', max_leaf_nodes=None, min_samples_leaf=1,\n",
      "           min_samples_split=2, min_weight_fraction_leaf=0.0,\n",
      "           n_estimators=250, n_jobs=-1, oob_score=False, random_state=None,\n",
      "           verbose=0, warm_start=False)\n",
      "AIC: 7563.09949586\n",
      "BIC:  7922.39848219\n",
      "RMSE:  1.18821011799 \n",
      "\n",
      "88  features being tested\n",
      "RandomForestRegressor(bootstrap=True, criterion='mse', max_depth=None,\n",
      "           max_features='auto', max_leaf_nodes=None, min_samples_leaf=1,\n",
      "           min_samples_split=2, min_weight_fraction_leaf=0.0,\n",
      "           n_estimators=250, n_jobs=-1, oob_score=False, random_state=None,\n",
      "           verbose=0, warm_start=False)\n",
      "AIC: 7623.03454216\n",
      "BIC:  8088.59793623\n",
      "RMSE:  1.1961320842 \n",
      "\n",
      "Best number of features: 10\n",
      "Reduced features:\n",
      " ['GCUT_SLOGP_0' 'SlogP_VSA1' 'GCUT_PEOE_0' 'GCUT_SMR_0' 'BCUT_SLOGP_0'\n",
      " 'PEOE_VSA+2' 'SMR_VSA6' 'mutagenic' 'balabanJ' 'SlogP_VSA4']\n"
     ]
    }
   ],
   "source": [
    "# Package training data as a dictionary to be passed to the reducer object\n",
    "train_data_dict = {'X': np.array(train_features),\n",
    "                   'y': np.array(train_labels)}\n",
    "# Initialize our feature reducer.  The verbosity will show results while the reducer is running\n",
    "reducer = chem.preprocess.Reducer(verbose=2)\n",
    "# Fit the reducer with the training data\n",
    "reducer.fit(train_data_dict)\n",
    "# Display the chosen features\n",
    "print('Best number of features:', len(reducer.featureList))\n",
    "print('Reduced features:\\n', features.columns.values[reducer.featureList])"
   ]
  },
  {
   "cell_type": "markdown",
   "metadata": {},
   "source": [
    "# Step 5\n",
    "## Create and evaluate the model\n",
    "Model created using reduced feature set and evaluated with RMSE"
   ]
  },
  {
   "cell_type": "code",
   "execution_count": 17,
   "metadata": {
    "collapsed": false
   },
   "outputs": [
    {
     "name": "stdout",
     "output_type": "stream",
     "text": [
      "RMSE:  1.17923650823\n"
     ]
    }
   ],
   "source": [
    "# Initialize modeler\n",
    "modeler = chem.Modeler()\n",
    "# Reduce training and test feature sets based on reducer results\n",
    "reduced_train_features = train_features[features.columns.values[reducer.featureList]]\n",
    "reduced_test_features = test_features[features.columns.values[reducer.featureList]]\n",
    "# Fit model with reduced feature sets\n",
    "modeler.fit(reduced_train_features, train_labels)\n",
    "# Make predictions on hold-out test set\n",
    "predictions = modeler.predict(reduced_test_features)\n",
    "# Display results\n",
    "print('RMSE: ',np.sqrt(metrics.mean_squared_error(predictions, test_labels)))"
   ]
  },
  {
   "cell_type": "code",
   "execution_count": null,
   "metadata": {
    "collapsed": true
   },
   "outputs": [],
   "source": []
  }
 ],
 "metadata": {
  "kernelspec": {
   "display_name": "Python 3",
   "language": "python",
   "name": "python3"
  },
  "language_info": {
   "codemirror_mode": {
    "name": "ipython",
    "version": 3
   },
   "file_extension": ".py",
   "mimetype": "text/x-python",
   "name": "python",
   "nbconvert_exporter": "python",
   "pygments_lexer": "ipython3",
   "version": "3.5.0"
  }
 },
 "nbformat": 4,
 "nbformat_minor": 0
}
